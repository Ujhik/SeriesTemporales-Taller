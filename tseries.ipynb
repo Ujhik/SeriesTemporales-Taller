{
 "cells": [
  {
   "cell_type": "markdown",
   "metadata": {},
   "source": [
    "# TSeries Package"
   ]
  },
  {
   "cell_type": "markdown",
   "metadata": {},
   "source": [
    "## Cargamos las librerías y los datos"
   ]
  },
  {
   "cell_type": "code",
   "execution_count": 9,
   "metadata": {
    "collapsed": true
   },
   "outputs": [],
   "source": [
    "library(tseries)\n",
    "\n",
    "library(ggplot2)\n",
    "library(zoo)\n",
    "library(forecast)\n",
    "library(rdatamarket)\n",
    "library(forecast)"
   ]
  },
  {
   "cell_type": "code",
   "execution_count": 10,
   "metadata": {
    "collapsed": false
   },
   "outputs": [
    {
     "name": "stderr",
     "output_type": "stream",
     "text": [
      "Don't know how to automatically pick scale for object of type yearmon. Defaulting to continuous.\n"
     ]
    },
    {
     "data": {},
     "metadata": {},
     "output_type": "display_data"
    },
    {
     "data": {
      "image/png": "[encoded data removed]",
      "text/plain": [
       "plot without title"
      ]
     },
     "metadata": {},
     "output_type": "display_data"
    }
   ],
   "source": [
    "accidentes <- as.ts(dmseries('http://data.is/1yFXOBi'))\n",
    "\n",
    "# Training y test \n",
    "acc.train <- window(x = accidentes, start = c(1960,1), end = c(1973,12))\n",
    "acc.test <- window(x = accidentes, start = c(1974,1))\n",
    "\n",
    "# Plotting con ggplot del training y el test\n",
    "p <- ggplot() +\n",
    "  geom_line(aes(x = index(as.zoo(acc.train)), y = coredata(as.zoo(acc.train))), col = 'blue') +\n",
    "  geom_line(aes(x = index(as.zoo(acc.test)), y = coredata(as.zoo(acc.test))), col = 'red')\n",
    "p"
   ]
  },
  {
   "cell_type": "code",
   "execution_count": 11,
   "metadata": {
    "collapsed": true
   },
   "outputs": [],
   "source": [
    "# Función genérica para plotting de test vs pred a través de ggplot2\n",
    "combine <- function(test, pred) {\n",
    "  require(ggplot2)\n",
    "  p <- ggplot() +\n",
    "    geom_line(aes(x = index(as.zoo(test)), y = coredata(as.zoo(test)), colour = 'Test')) +\n",
    "    geom_line(aes(x = index(as.zoo(test)), y = pred, colour = 'Prediccion')) +\n",
    "    scale_color_manual(name = 'Leyenda', values = c('Test' = 'black', 'Prediccion' = 'red'),\n",
    "                       labels = c('Test','Prediccion'))\n",
    "  p\n",
    "}\n"
   ]
  },
  {
   "cell_type": "markdown",
   "metadata": {},
   "source": [
    "<br>"
   ]
  },
  {
   "cell_type": "markdown",
   "metadata": {},
   "source": [
    "## Ajustamos estacionalmente la serie y volvemos a dividir en dos conjuntos"
   ]
  },
  {
   "cell_type": "code",
   "execution_count": 14,
   "metadata": {
    "collapsed": false
   },
   "outputs": [
    {
     "name": "stderr",
     "output_type": "stream",
     "text": [
      "Don't know how to automatically pick scale for object of type yearmon. Defaulting to continuous.\n"
     ]
    },
    {
     "data": {},
     "metadata": {},
     "output_type": "display_data"
    },
    {
     "data": {
      "image/png": "[encoded data removed]",
      "text/plain": [
       "plot without title"
      ]
     },
     "metadata": {},
     "output_type": "display_data"
    }
   ],
   "source": [
    "decomposition <- decompose(x = accidentes, type = 'additive')\n",
    "accidentes.adj <- seasadj(decomposition) # Forecast\n",
    "\n",
    "acc.train.adj <- window(accidentes.adj, start = c(1960,1), end = c(1973,12))\n",
    "acc.test.adj <- window(accidentes.adj, start = c(1974,1))\n",
    "\n",
    "# Plotting con ggplot del training y el test\n",
    "p <- ggplot() +\n",
    "  geom_line(aes(x = index(as.zoo(acc.train.adj)), y = coredata(as.zoo(acc.train.adj))), col = 'blue') +\n",
    "  geom_line(aes(x = index(as.zoo(acc.test.adj)), y = coredata(as.zoo(acc.test.adj))), col = 'red')\n",
    "p"
   ]
  },
  {
   "cell_type": "markdown",
   "metadata": {},
   "source": [
    "<br>"
   ]
  },
  {
   "cell_type": "markdown",
   "metadata": {},
   "source": [
    "## ¿Es estacionaria?"
   ]
  },
  {
   "cell_type": "code",
   "execution_count": 15,
   "metadata": {
    "collapsed": false
   },
   "outputs": [
    {
     "name": "stderr",
     "output_type": "stream",
     "text": [
      "Warning message in adf.test(acc.train.adj, alternative = \"stationary\"):\n",
      "\"p-value smaller than printed p-value\""
     ]
    },
    {
     "data": {
      "text/plain": [
       "\n",
       "\tAugmented Dickey-Fuller Test\n",
       "\n",
       "data:  acc.train.adj\n",
       "Dickey-Fuller = -4.7501, Lag order = 5, p-value = 0.01\n",
       "alternative hypothesis: stationary\n"
      ]
     },
     "metadata": {},
     "output_type": "display_data"
    }
   ],
   "source": [
    "adf.test(acc.train.adj, alternative = 'stationary') # Es estacionaria"
   ]
  },
  {
   "cell_type": "code",
   "execution_count": 16,
   "metadata": {
    "collapsed": false
   },
   "outputs": [
    {
     "name": "stderr",
     "output_type": "stream",
     "text": [
      "Warning message in adf.test(acc.train.adj, alternative = \"explosive\"):\n",
      "\"p-value smaller than printed p-value\""
     ]
    },
    {
     "data": {
      "text/plain": [
       "\n",
       "\tAugmented Dickey-Fuller Test\n",
       "\n",
       "data:  acc.train.adj\n",
       "Dickey-Fuller = -4.7501, Lag order = 5, p-value = 0.99\n",
       "alternative hypothesis: explosive\n"
      ]
     },
     "metadata": {},
     "output_type": "display_data"
    }
   ],
   "source": [
    "adf.test(acc.train.adj, alternative = 'explosive') # No es explosiva"
   ]
  },
  {
   "cell_type": "code",
   "execution_count": 17,
   "metadata": {
    "collapsed": false
   },
   "outputs": [
    {
     "name": "stderr",
     "output_type": "stream",
     "text": [
      "Warning message in pp.test(acc.train.adj, alternative = \"stationary\"):\n",
      "\"p-value smaller than printed p-value\""
     ]
    },
    {
     "data": {
      "text/plain": [
       "\n",
       "\tPhillips-Perron Unit Root Test\n",
       "\n",
       "data:  acc.train.adj\n",
       "Dickey-Fuller Z(alpha) = -127.76, Truncation lag parameter = 4, p-value\n",
       "= 0.01\n",
       "alternative hypothesis: stationary\n"
      ]
     },
     "metadata": {},
     "output_type": "display_data"
    }
   ],
   "source": [
    "pp.test(acc.train.adj, alternative = 'stationary') # Es estacionaria"
   ]
  },
  {
   "cell_type": "code",
   "execution_count": 18,
   "metadata": {
    "collapsed": false
   },
   "outputs": [
    {
     "name": "stderr",
     "output_type": "stream",
     "text": [
      "Warning message in pp.test(acc.train.adj, alternative = \"explosive\"):\n",
      "\"p-value smaller than printed p-value\""
     ]
    },
    {
     "data": {
      "text/plain": [
       "\n",
       "\tPhillips-Perron Unit Root Test\n",
       "\n",
       "data:  acc.train.adj\n",
       "Dickey-Fuller Z(alpha) = -127.76, Truncation lag parameter = 4, p-value\n",
       "= 0.99\n",
       "alternative hypothesis: explosive\n"
      ]
     },
     "metadata": {},
     "output_type": "display_data"
    }
   ],
   "source": [
    "pp.test(acc.train.adj, alternative = 'explosive') # No es explosiva"
   ]
  },
  {
   "cell_type": "code",
   "execution_count": 19,
   "metadata": {
    "collapsed": false
   },
   "outputs": [
    {
     "data": {
      "text/plain": [
       "\n",
       "\tKPSS Test for Trend Stationarity\n",
       "\n",
       "data:  acc.train.adj\n",
       "KPSS Trend = 0.14327, Truncation lag parameter = 2, p-value = 0.05506\n"
      ]
     },
     "metadata": {},
     "output_type": "display_data"
    }
   ],
   "source": [
    "kpss.test(acc.train.adj, null = 'Trend') # 0.055 dudamos sobre la estacionariedad en tendencia"
   ]
  },
  {
   "cell_type": "code",
   "execution_count": 20,
   "metadata": {
    "collapsed": true
   },
   "outputs": [],
   "source": [
    "# Diferenciamos para hacerla estacionaria en tendencia (evidencias visuales)\n",
    "accidentes.dif.adj <- diff(accidentes.adj) \n",
    "acc.train.dif.adj <- window(accidentes.dif.adj, start = c(1960,2), end = c(1973,12)) # Perdemos una observación\n",
    "acc.test.dif.adj <- window(accidentes.dif.adj, start = c(1974,1))"
   ]
  },
  {
   "cell_type": "code",
   "execution_count": 21,
   "metadata": {
    "collapsed": false
   },
   "outputs": [
    {
     "name": "stderr",
     "output_type": "stream",
     "text": [
      "Warning message in adf.test(acc.train.dif.adj, alternative = \"stationary\"):\n",
      "\"p-value smaller than printed p-value\""
     ]
    },
    {
     "data": {
      "text/plain": [
       "\n",
       "\tAugmented Dickey-Fuller Test\n",
       "\n",
       "data:  acc.train.dif.adj\n",
       "Dickey-Fuller = -7.3046, Lag order = 5, p-value = 0.01\n",
       "alternative hypothesis: stationary\n"
      ]
     },
     "metadata": {},
     "output_type": "display_data"
    }
   ],
   "source": [
    "# Repetimos los tests\n",
    "adf.test(acc.train.dif.adj, alternative = 'stationary') # Es estacionaria"
   ]
  },
  {
   "cell_type": "code",
   "execution_count": 22,
   "metadata": {
    "collapsed": false
   },
   "outputs": [
    {
     "name": "stderr",
     "output_type": "stream",
     "text": [
      "Warning message in adf.test(acc.train.dif.adj, alternative = \"explosive\"):\n",
      "\"p-value smaller than printed p-value\""
     ]
    },
    {
     "data": {
      "text/plain": [
       "\n",
       "\tAugmented Dickey-Fuller Test\n",
       "\n",
       "data:  acc.train.dif.adj\n",
       "Dickey-Fuller = -7.3046, Lag order = 5, p-value = 0.99\n",
       "alternative hypothesis: explosive\n"
      ]
     },
     "metadata": {},
     "output_type": "display_data"
    }
   ],
   "source": [
    "adf.test(acc.train.dif.adj, alternative = 'explosive') # No es explosiva"
   ]
  },
  {
   "cell_type": "code",
   "execution_count": 23,
   "metadata": {
    "collapsed": false
   },
   "outputs": [
    {
     "name": "stderr",
     "output_type": "stream",
     "text": [
      "Warning message in pp.test(acc.train.adj, alternative = \"stationary\"):\n",
      "\"p-value smaller than printed p-value\""
     ]
    },
    {
     "data": {
      "text/plain": [
       "\n",
       "\tPhillips-Perron Unit Root Test\n",
       "\n",
       "data:  acc.train.adj\n",
       "Dickey-Fuller Z(alpha) = -127.76, Truncation lag parameter = 4, p-value\n",
       "= 0.01\n",
       "alternative hypothesis: stationary\n"
      ]
     },
     "metadata": {},
     "output_type": "display_data"
    }
   ],
   "source": [
    "pp.test(acc.train.adj, alternative = 'stationary') # Es estacionaria"
   ]
  },
  {
   "cell_type": "code",
   "execution_count": 24,
   "metadata": {
    "collapsed": false
   },
   "outputs": [
    {
     "name": "stderr",
     "output_type": "stream",
     "text": [
      "Warning message in pp.test(acc.train.adj, alternative = \"explosive\"):\n",
      "\"p-value smaller than printed p-value\""
     ]
    },
    {
     "data": {
      "text/plain": [
       "\n",
       "\tPhillips-Perron Unit Root Test\n",
       "\n",
       "data:  acc.train.adj\n",
       "Dickey-Fuller Z(alpha) = -127.76, Truncation lag parameter = 4, p-value\n",
       "= 0.99\n",
       "alternative hypothesis: explosive\n"
      ]
     },
     "metadata": {},
     "output_type": "display_data"
    }
   ],
   "source": [
    "pp.test(acc.train.adj, alternative = 'explosive') # No es explosiva"
   ]
  },
  {
   "cell_type": "code",
   "execution_count": 25,
   "metadata": {
    "collapsed": false
   },
   "outputs": [
    {
     "name": "stderr",
     "output_type": "stream",
     "text": [
      "Warning message in kpss.test(acc.train.dif.adj, null = \"Trend\"):\n",
      "\"p-value greater than printed p-value\""
     ]
    },
    {
     "data": {
      "text/plain": [
       "\n",
       "\tKPSS Test for Trend Stationarity\n",
       "\n",
       "data:  acc.train.dif.adj\n",
       "KPSS Trend = 0.01118, Truncation lag parameter = 2, p-value = 0.1\n"
      ]
     },
     "metadata": {},
     "output_type": "display_data"
    }
   ],
   "source": [
    "kpss.test(acc.train.dif.adj, null = 'Trend') # Es estacionaria en tendencia"
   ]
  },
  {
   "cell_type": "code",
   "execution_count": 26,
   "metadata": {
    "collapsed": false
   },
   "outputs": [
    {
     "name": "stderr",
     "output_type": "stream",
     "text": [
      "Don't know how to automatically pick scale for object of type yearmon. Defaulting to continuous.\n"
     ]
    },
    {
     "data": {},
     "metadata": {},
     "output_type": "display_data"
    },
    {
     "data": {
      "image/png": "[encoded data removed]",
      "text/plain": [
       "plot without title"
      ]
     },
     "metadata": {},
     "output_type": "display_data"
    }
   ],
   "source": [
    "# Plotting con ggplot del nuevo training y el test\n",
    "p <- ggplot() +\n",
    "  geom_line(aes(x = index(as.zoo(acc.train.dif.adj)), y = coredata(as.zoo(acc.train.dif.adj))), col = 'blue') +\n",
    "  geom_line(aes(x = index(as.zoo(acc.test.dif.adj)), y = coredata(as.zoo(acc.test.dif.adj))), col = 'red')\n",
    "p"
   ]
  },
  {
   "cell_type": "markdown",
   "metadata": {},
   "source": [
    "<br>"
   ]
  },
  {
   "cell_type": "markdown",
   "metadata": {},
   "source": [
    "## ¿Linealidad en media?"
   ]
  },
  {
   "cell_type": "code",
   "execution_count": 27,
   "metadata": {
    "collapsed": false
   },
   "outputs": [
    {
     "data": {
      "text/plain": [
       "\n",
       "\tTeraesvirta Neural Network Test\n",
       "\n",
       "data:  acc.train.dif.adj\n",
       "X-squared = 0.21309, df = 2, p-value = 0.8989\n"
      ]
     },
     "metadata": {},
     "output_type": "display_data"
    }
   ],
   "source": [
    "terasvirta.test(acc.train.dif.adj) # Es lineal en media"
   ]
  },
  {
   "cell_type": "code",
   "execution_count": 28,
   "metadata": {
    "collapsed": false
   },
   "outputs": [
    {
     "data": {
      "text/plain": [
       "\n",
       "\tWhite Neural Network Test\n",
       "\n",
       "data:  acc.train.adj\n",
       "X-squared = 0.47088, df = 2, p-value = 0.7902\n"
      ]
     },
     "metadata": {},
     "output_type": "display_data"
    }
   ],
   "source": [
    "white.test(acc.train.adj) # Es lineal en media"
   ]
  },
  {
   "cell_type": "markdown",
   "metadata": {},
   "source": [
    "<br>"
   ]
  },
  {
   "cell_type": "markdown",
   "metadata": {},
   "source": [
    "## Bootstrap"
   ]
  },
  {
   "cell_type": "code",
   "execution_count": 29,
   "metadata": {
    "collapsed": true
   },
   "outputs": [],
   "source": [
    "boots.block <- tsbootstrap(acc.train.dif.adj, type = 'block')\n",
    "boots.stationary <- tsbootstrap(acc.train.dif.adj, type = 'stationary')"
   ]
  },
  {
   "cell_type": "code",
   "execution_count": 30,
   "metadata": {
    "collapsed": false
   },
   "outputs": [
    {
     "name": "stderr",
     "output_type": "stream",
     "text": [
      "Don't know how to automatically pick scale for object of type yearmon. Defaulting to continuous.\n"
     ]
    },
    {
     "data": {},
     "metadata": {},
     "output_type": "display_data"
    },
    {
     "data": {
      "image/png": "[encoded data removed]",
      "text/plain": [
       "plot without title"
      ]
     },
     "metadata": {},
     "output_type": "display_data"
    }
   ],
   "source": [
    "p <- ggplot() +\n",
    "  geom_line(aes(x = index(as.zoo(acc.train.dif.adj)),\n",
    "                y = coredata(as.zoo(acc.train.dif.adj))), col = 'black') +\n",
    "  geom_line(aes(x = index(as.zoo(boots.block)), y = coredata(as.zoo(boots.block))), col = 'blue')\n",
    "p"
   ]
  },
  {
   "cell_type": "code",
   "execution_count": 31,
   "metadata": {
    "collapsed": false
   },
   "outputs": [
    {
     "name": "stderr",
     "output_type": "stream",
     "text": [
      "Don't know how to automatically pick scale for object of type yearmon. Defaulting to continuous.\n"
     ]
    },
    {
     "data": {},
     "metadata": {},
     "output_type": "display_data"
    },
    {
     "data": {
      "image/png": "[encoded data removed]",
      "text/plain": [
       "plot without title"
      ]
     },
     "metadata": {},
     "output_type": "display_data"
    }
   ],
   "source": [
    "p <- ggplot() +\n",
    "  geom_line(aes(x = index(as.zoo(acc.train.dif.adj)),\n",
    "                y = coredata(as.zoo(acc.train.dif.adj))), col = 'black') +\n",
    "  geom_line(aes(x = index(as.zoo(boots.stationary)), y = coredata(as.zoo(boots.stationary))), col = 'blue')\n",
    "p"
   ]
  },
  {
   "cell_type": "code",
   "execution_count": 32,
   "metadata": {
    "collapsed": false
   },
   "outputs": [
    {
     "data": {
      "text/plain": [
       "\n",
       "Call:\n",
       "tsbootstrap(x = acc.train.dif.adj, nb = 500, statistic = initial.acf, \n",
       "    type = \"stationary\")\n",
       "\n",
       "Resampled Statistic(s):\n",
       "   original     bias std. error\n",
       "t1 -0.46105  0.03685    0.04872\n",
       "t2  0.05999 -0.02377    0.07767\n",
       "t3 -0.00991  0.01430    0.07927\n",
       "t4 -0.11464  0.02266    0.08342\n",
       "t5  0.07060 -0.01140    0.08540\n",
       "t6 -0.01765  0.01302    0.07827\n",
       "t7 -0.08207  0.01736    0.07917\n"
      ]
     },
     "metadata": {},
     "output_type": "display_data"
    }
   ],
   "source": [
    "initial.acf <- function(serie) {\n",
    "  return(acf(serie, plot = FALSE)$acf[2:8])\n",
    "}\n",
    "\n",
    "tsbootstrap(acc.train.dif.adj, nb= 500, type = 'stationary',\n",
    "            statistic = initial.acf)"
   ]
  },
  {
   "cell_type": "markdown",
   "metadata": {},
   "source": [
    "<br>"
   ]
  },
  {
   "cell_type": "markdown",
   "metadata": {},
   "source": [
    "## Surrogate"
   ]
  },
  {
   "cell_type": "code",
   "execution_count": 33,
   "metadata": {
    "collapsed": false
   },
   "outputs": [
    {
     "name": "stderr",
     "output_type": "stream",
     "text": [
      "Don't know how to automatically pick scale for object of type yearmon. Defaulting to continuous.\n"
     ]
    },
    {
     "data": {},
     "metadata": {},
     "output_type": "display_data"
    },
    {
     "data": {
      "image/png": "[encoded data removed]",
      "text/plain": [
       "plot without title"
      ]
     },
     "metadata": {},
     "output_type": "display_data"
    }
   ],
   "source": [
    "surr <- surrogate(acc.train.dif.adj, ns = 1, fft = TRUE, amplitude = TRUE)\n",
    "\n",
    "p <- ggplot() +\n",
    "  geom_line(aes(x = index(as.zoo(acc.train.dif.adj)),\n",
    "                y = coredata(as.zoo(acc.train.dif.adj))), col = 'black') +\n",
    "  geom_line(aes(x = index(as.zoo(surr)), y = coredata(as.zoo(surr))), col = 'blue')\n",
    "p"
   ]
  },
  {
   "cell_type": "markdown",
   "metadata": {},
   "source": [
    "<br>"
   ]
  },
  {
   "cell_type": "markdown",
   "metadata": {},
   "source": [
    "## Estudiamos los correlogramas para ajustar un ARIMA"
   ]
  },
  {
   "cell_type": "code",
   "execution_count": 34,
   "metadata": {
    "collapsed": false
   },
   "outputs": [
    {
     "data": {
      "image/png": "[encoded data removed]",
      "text/plain": [
       "Plot with title \"object$x\""
      ]
     },
     "metadata": {},
     "output_type": "display_data"
    }
   ],
   "source": [
    "Acf(acc.train.dif.adj)"
   ]
  },
  {
   "cell_type": "code",
   "execution_count": 35,
   "metadata": {
    "collapsed": false
   },
   "outputs": [
    {
     "data": {
      "image/png": "[encoded data removed]",
      "text/plain": [
       "Plot with title \"Series  acc.train.dif.adj\""
      ]
     },
     "metadata": {},
     "output_type": "display_data"
    }
   ],
   "source": [
    "Pacf(acc.train.dif.adj)"
   ]
  },
  {
   "cell_type": "markdown",
   "metadata": {},
   "source": [
    "<br>"
   ]
  },
  {
   "cell_type": "markdown",
   "metadata": {},
   "source": [
    "## Ajustamos un ARIMA(1,1,1)"
   ]
  },
  {
   "cell_type": "code",
   "execution_count": 37,
   "metadata": {
    "collapsed": false
   },
   "outputs": [
    {
     "data": {
      "text/plain": [
       "\n",
       "Call:\n",
       "arma(x = acc.train.dif.adj, order = c(1, 1), include.intercept = FALSE)\n",
       "\n",
       "Model:\n",
       "ARMA(1,1)\n",
       "\n",
       "Residuals:\n",
       "    Min      1Q  Median      3Q     Max \n",
       "-39.253  -8.132   1.725  11.008  47.662 \n",
       "\n",
       "Coefficient(s):\n",
       "     Estimate  Std. Error  t value Pr(>|t|)    \n",
       "ar1   0.18343     0.09343    1.963   0.0496 *  \n",
       "ma1  -0.85834     0.05004  -17.153   <2e-16 ***\n",
       "---\n",
       "Signif. codes:  0 '***' 0.001 '**' 0.01 '*' 0.05 '.' 0.1 ' ' 1\n",
       "\n",
       "Fit:\n",
       "sigma^2 estimated as 280.6,  Conditional Sum-of-Squares = 46678.99,  AIC = 1419.3\n"
      ]
     },
     "metadata": {},
     "output_type": "display_data"
    }
   ],
   "source": [
    "model.1 <- arma(x = acc.train.dif.adj, order = c(1,1), include.intercept = FALSE) # AIC =  1419.3\n",
    "summary(model.1)"
   ]
  },
  {
   "cell_type": "code",
   "execution_count": 38,
   "metadata": {
    "collapsed": false
   },
   "outputs": [
    {
     "data": {
      "image/png": "[encoded data removed]",
      "text/plain": [
       "Plot with title \"Series  model.1$residuals\""
      ]
     },
     "metadata": {},
     "output_type": "display_data"
    }
   ],
   "source": [
    "Acf(model.1$residuals)"
   ]
  },
  {
   "cell_type": "code",
   "execution_count": 39,
   "metadata": {
    "collapsed": false
   },
   "outputs": [
    {
     "data": {
      "text/plain": [
       "\n",
       "\tJarque Bera Test\n",
       "\n",
       "data:  na.remove(model.1$residuals)\n",
       "X-squared = 0.65899, df = 2, p-value = 0.7193\n"
      ]
     },
     "metadata": {},
     "output_type": "display_data"
    }
   ],
   "source": [
    "jarque.bera.test(na.remove(model.1$residuals)) # normalidad"
   ]
  },
  {
   "cell_type": "code",
   "execution_count": 40,
   "metadata": {
    "collapsed": false
   },
   "outputs": [
    {
     "data": {
      "text/plain": [
       "\n",
       "\t BDS Test \n",
       "\n",
       "data:  na.remove(model.1$residuals) \n",
       "\n",
       "Embedding dimension =  2 3 \n",
       "\n",
       "Epsilon for close points =   8.3757 16.7514 25.1271 33.5028 \n",
       "\n",
       "Standard Normal = \n",
       "      [ 8.3757 ] [ 16.7514 ] [ 25.1271 ] [ 33.5028 ]\n",
       "[ 2 ]    -0.4756     -0.9681     -0.7699     -0.9441\n",
       "[ 3 ]    -0.1811     -0.0944     -0.4071     -0.7277\n",
       "\n",
       "p-value = \n",
       "      [ 8.3757 ] [ 16.7514 ] [ 25.1271 ] [ 33.5028 ]\n",
       "[ 2 ]     0.6344      0.3330      0.4413      0.3451\n",
       "[ 3 ]     0.8563      0.9248      0.6839      0.4668\n",
       "\n"
      ]
     },
     "metadata": {},
     "output_type": "display_data"
    }
   ],
   "source": [
    "bds.test(na.remove(model.1$residuals)) # iid"
   ]
  },
  {
   "cell_type": "markdown",
   "metadata": {},
   "source": [
    "<br>"
   ]
  },
  {
   "cell_type": "markdown",
   "metadata": {},
   "source": [
    "## Ajustamos un ARIMA(2,1,1)"
   ]
  },
  {
   "cell_type": "code",
   "execution_count": 41,
   "metadata": {
    "collapsed": false
   },
   "outputs": [
    {
     "data": {
      "text/plain": [
       "\n",
       "Call:\n",
       "arma(x = acc.train.dif.adj, order = c(2, 1), include.intercept = FALSE)\n",
       "\n",
       "Model:\n",
       "ARMA(2,1)\n",
       "\n",
       "Residuals:\n",
       "    Min      1Q  Median      3Q     Max \n",
       "-36.105  -6.418   2.156  11.723  46.680 \n",
       "\n",
       "Coefficient(s):\n",
       "     Estimate  Std. Error  t value Pr(>|t|)    \n",
       "ar1   0.16314     0.08298    1.966   0.0493 *  \n",
       "ar2   0.10838     0.08413    1.288   0.1976    \n",
       "ma1  -0.86773     0.04236  -20.487   <2e-16 ***\n",
       "---\n",
       "Signif. codes:  0 '***' 0.001 '**' 0.01 '*' 0.05 '.' 0.1 ' ' 1\n",
       "\n",
       "Fit:\n",
       "sigma^2 estimated as 269.1,  Conditional Sum-of-Squares = 45155.79,  AIC = 1414.29\n"
      ]
     },
     "metadata": {},
     "output_type": "display_data"
    }
   ],
   "source": [
    "model.2 <- arma(x = acc.train.dif.adj, order = c(2,1), include.intercept = FALSE) # AIC = 1414.81\n",
    "summary(model.2)"
   ]
  },
  {
   "cell_type": "code",
   "execution_count": 42,
   "metadata": {
    "collapsed": false
   },
   "outputs": [
    {
     "data": {
      "image/png": "[encoded data removed]",
      "text/plain": [
       "Plot with title \"Series  model.2$residuals\""
      ]
     },
     "metadata": {},
     "output_type": "display_data"
    }
   ],
   "source": [
    "Acf(model.2$residuals)"
   ]
  },
  {
   "cell_type": "code",
   "execution_count": 43,
   "metadata": {
    "collapsed": false
   },
   "outputs": [
    {
     "data": {
      "text/plain": [
       "\n",
       "\tJarque Bera Test\n",
       "\n",
       "data:  na.remove(model.2$residuals)\n",
       "X-squared = 0.50151, df = 2, p-value = 0.7782\n"
      ]
     },
     "metadata": {},
     "output_type": "display_data"
    }
   ],
   "source": [
    "jarque.bera.test(na.remove(model.2$residuals)) # normalidad"
   ]
  },
  {
   "cell_type": "code",
   "execution_count": 45,
   "metadata": {
    "collapsed": false
   },
   "outputs": [
    {
     "data": {
      "text/plain": [
       "\n",
       "\t BDS Test \n",
       "\n",
       "data:  na.remove(model.2$residuals) \n",
       "\n",
       "Embedding dimension =  2 3 \n",
       "\n",
       "Epsilon for close points =   8.2018 16.4036 24.6054 32.8072 \n",
       "\n",
       "Standard Normal = \n",
       "      [ 8.2018 ] [ 16.4036 ] [ 24.6054 ] [ 32.8072 ]\n",
       "[ 2 ]    -1.0469     -1.2213     -1.4867     -1.8768\n",
       "[ 3 ]    -0.7925     -0.7553     -1.1963     -1.7652\n",
       "\n",
       "p-value = \n",
       "      [ 8.2018 ] [ 16.4036 ] [ 24.6054 ] [ 32.8072 ]\n",
       "[ 2 ]     0.2952      0.2220      0.1371      0.0605\n",
       "[ 3 ]     0.4281      0.4501      0.2316      0.0775\n",
       "\n"
      ]
     },
     "metadata": {},
     "output_type": "display_data"
    }
   ],
   "source": [
    "bds.test(na.remove(model.2$residuals)) # iid"
   ]
  },
  {
   "cell_type": "code",
   "execution_count": 46,
   "metadata": {
    "collapsed": false
   },
   "outputs": [
    {
     "name": "stderr",
     "output_type": "stream",
     "text": [
      "Don't know how to automatically pick scale for object of type yearmon. Defaulting to continuous.\n",
      "Warning message:\n",
      "\"Removed 1 rows containing missing values (geom_path).\"Warning message:\n",
      "\"Removed 2 rows containing missing values (geom_path).\""
     ]
    },
    {
     "data": {},
     "metadata": {},
     "output_type": "display_data"
    },
    {
     "data": {
      "image/png": "[encoded data removed]",
      "text/plain": [
       "plot without title"
      ]
     },
     "metadata": {},
     "output_type": "display_data"
    }
   ],
   "source": [
    "# Graficamos ambos modelos\n",
    "p <- ggplot() +\n",
    "  geom_line(aes(x = index(as.zoo(acc.train.dif.adj)),\n",
    "                y = coredata(as.zoo(acc.train.dif.adj))), col = 'black') +\n",
    "  geom_line(aes(x = index(as.zoo(fitted(model.1))), y = coredata(as.zoo(fitted(model.1)))), col = 'blue') +\n",
    "  geom_line(aes(x = index(as.zoo(fitted(model.2))), y = coredata(as.zoo(fitted(model.2)))), col = 'red')\n",
    "p"
   ]
  },
  {
   "cell_type": "code",
   "execution_count": null,
   "metadata": {
    "collapsed": true
   },
   "outputs": [],
   "source": []
  }
 ],
 "metadata": {
  "kernelspec": {
   "display_name": "R",
   "language": "R",
   "name": "ir"
  },
  "language_info": {
   "codemirror_mode": "r",
   "file_extension": ".r",
   "mimetype": "text/x-r-source",
   "name": "R",
   "pygments_lexer": "r",
   "version": "3.3.2"
  }
 },
 "nbformat": 4,
 "nbformat_minor": 2
}
